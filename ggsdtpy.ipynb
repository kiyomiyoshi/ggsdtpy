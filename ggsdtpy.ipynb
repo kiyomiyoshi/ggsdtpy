{
 "cells": [
  {
   "cell_type": "markdown",
   "id": "ed4b3c4c",
   "metadata": {},
   "source": [
    "# ggsdtpy"
   ]
  },
  {
   "cell_type": "code",
   "execution_count": 1,
   "id": "e518be17",
   "metadata": {},
   "outputs": [],
   "source": [
    "import math\n",
    "import numpy as np\n",
    "import pandas as pd\n",
    "from scipy.stats import gennorm\n",
    "from scipy.optimize import minimize, SR1"
   ]
  },
  {
   "cell_type": "markdown",
   "id": "009d27f4",
   "metadata": {},
   "source": [
    "## likelihood function"
   ]
  },
  {
   "cell_type": "code",
   "execution_count": 2,
   "id": "b39768ff",
   "metadata": {},
   "outputs": [],
   "source": [
    "def fit_ggsdt_ll(x, parameters):\n",
    "    m2 =   x[0]\n",
    "    alp2 = x[1]\n",
    "    bet =  x[2]\n",
    "    cri =  x[3:]\n",
    "    \n",
    "    nR_S1, nR_S2 = parameters\n",
    "\n",
    "    exp_far = gennorm.cdf(cri, scale = 1, beta = bet, loc = 0)\n",
    "    exp_hr =  gennorm.cdf(cri - m2, scale = alp2, beta = bet, loc = 0)\n",
    "\n",
    "    exp_s1 = np.sum(nR_S1) * np.diff(exp_far)\n",
    "    exp_s2 = np.sum(nR_S2) * np.diff(exp_hr)\n",
    "    \n",
    "    exp_fas =  np.hstack([np.sum(nR_S1) * exp_far[0], exp_s1, np.sum(nR_S1) \\\n",
    "    - np.sum(nR_S1) * exp_far[0] - np.sum(exp_s1)])\n",
    "    exp_hits = np.hstack([np.sum(nR_S2) * exp_hr[0],  exp_s2, np.sum(nR_S2) \\\n",
    "    - np.sum(nR_S2) * exp_hr[0]  - np.sum(exp_s2)])\n",
    "    \n",
    "    with np.errstate(invalid = 'ignore'):\n",
    "        ll = np.sum(nR_S2 * np.log(exp_hits / np.sum(nR_S2)) \\\n",
    "        + nR_S1 * np.log(exp_fas / np.sum(nR_S1)))\n",
    "   \n",
    "    if np.isinf(ll) or np.isnan(ll):\n",
    "        ll = -1e+300 # returning \"-inf\" may cause optimize.minimize() to fail\n",
    "    \n",
    "    return -ll"
   ]
  },
  {
   "cell_type": "markdown",
   "id": "36fde2d0",
   "metadata": {},
   "source": [
    "## model fitting"
   ]
  },
  {
   "cell_type": "code",
   "execution_count": 3,
   "id": "1f89b6fa",
   "metadata": {},
   "outputs": [],
   "source": [
    "def fit_ggsdt(nR_S1, nR_S2, add_constant = True):\n",
    "    \n",
    "    if (add_constant):\n",
    "        nR_S1 = nR_S1 + (1 / len(nR_S1))\n",
    "        nR_S2 = nR_S2 + (1 / len(nR_S2))\n",
    "    \n",
    "    n_ratings = int(len(nR_S1) / 2)\n",
    "    far = 1 - np.cumsum(nR_S1) / np.sum(nR_S1)\n",
    "    hr =  1 - np.cumsum(nR_S2) / np.sum(nR_S2)\n",
    "\n",
    "    # set up initial guess for parameter values\n",
    "    alp2 = 1\n",
    "    bet = 2\n",
    "    mu2 = gennorm.ppf(hr[n_ratings - 1], scale = alp2, beta = bet) \\\n",
    "          - gennorm.ppf(far[n_ratings - 1], scale = alp2, beta = bet)\n",
    "    cri = -1 * gennorm.ppf(far, scale = alp2, beta = bet)\n",
    "    cri = cri[0:(2 * n_ratings - 1)]\n",
    "    \n",
    "    guess = np.hstack([mu2, alp2, bet, cri])\n",
    "\n",
    "    # model fitting\n",
    "    parameters = [nR_S1, nR_S2]\n",
    "    \n",
    "    fit = minimize(fit_ggsdt_ll, guess, args = parameters, method = 'trust-constr',\n",
    "                       jac = '2-point', hess = SR1())\n",
    "                       \n",
    "    m2 =   fit.x[0]\n",
    "    alp2 = fit.x[1]\n",
    "    bet =  fit.x[2]\n",
    "    cri =  fit.x[3:]\n",
    "    ll =   -fit.fun\n",
    "    sd1 =  math.sqrt((1**2 * math.gamma(3 / bet)) / math.gamma(1 / bet))\n",
    "    sd2 =  math.sqrt((alp2**2 * math.gamma(3 / bet)) / math.gamma(1 / bet))\n",
    "    kurt = (math.gamma(5 / bet) * math.gamma(1 / bet)) / math.gamma(3 / bet)**2 - 3\n",
    "\n",
    "    est = pd.DataFrame()\n",
    "    est[\"mu2\"] = [m2]\n",
    "    est[\"alpha2\"] = [alp2]\n",
    "    est[\"beta\"] = [bet]\n",
    "    est[\"loglike\"] = [ll]\n",
    "    est[\"sigma1\"] = [sd1]\n",
    "    est[\"sigma2\"] = [sd2]\n",
    "    est[\"kurtosis\"] = [kurt]\n",
    "    \n",
    "    for i in range(2 * n_ratings - 1):\n",
    "        est[\"c\" + str(i + 1)] = [fit.x[3 + i]]\n",
    "    \n",
    "    return est"
   ]
  },
  {
   "cell_type": "markdown",
   "id": "d8d4a151",
   "metadata": {},
   "source": [
    "## examples"
   ]
  },
  {
   "cell_type": "code",
   "execution_count": 4,
   "id": "49d56c5d",
   "metadata": {},
   "outputs": [
    {
     "data": {
      "text/html": [
       "<div>\n",
       "<style scoped>\n",
       "    .dataframe tbody tr th:only-of-type {\n",
       "        vertical-align: middle;\n",
       "    }\n",
       "\n",
       "    .dataframe tbody tr th {\n",
       "        vertical-align: top;\n",
       "    }\n",
       "\n",
       "    .dataframe thead th {\n",
       "        text-align: right;\n",
       "    }\n",
       "</style>\n",
       "<table border=\"1\" class=\"dataframe\">\n",
       "  <thead>\n",
       "    <tr style=\"text-align: right;\">\n",
       "      <th></th>\n",
       "      <th>mu2</th>\n",
       "      <th>alpha2</th>\n",
       "      <th>beta</th>\n",
       "      <th>loglike</th>\n",
       "      <th>sigma1</th>\n",
       "      <th>sigma2</th>\n",
       "      <th>kurtosis</th>\n",
       "      <th>c1</th>\n",
       "      <th>c2</th>\n",
       "      <th>c3</th>\n",
       "      <th>c4</th>\n",
       "      <th>c5</th>\n",
       "    </tr>\n",
       "  </thead>\n",
       "  <tbody>\n",
       "    <tr>\n",
       "      <th>0</th>\n",
       "      <td>1.090558</td>\n",
       "      <td>1.306446</td>\n",
       "      <td>1.781324</td>\n",
       "      <td>-1338.253235</td>\n",
       "      <td>0.75595</td>\n",
       "      <td>0.987609</td>\n",
       "      <td>0.257916</td>\n",
       "      <td>-0.224036</td>\n",
       "      <td>0.271486</td>\n",
       "      <td>0.500422</td>\n",
       "      <td>0.635745</td>\n",
       "      <td>1.012405</td>\n",
       "    </tr>\n",
       "  </tbody>\n",
       "</table>\n",
       "</div>"
      ],
      "text/plain": [
       "        mu2    alpha2      beta      loglike   sigma1    sigma2  kurtosis  \\\n",
       "0  1.090558  1.306446  1.781324 -1338.253235  0.75595  0.987609  0.257916   \n",
       "\n",
       "         c1        c2        c3        c4        c5  \n",
       "0 -0.224036  0.271486  0.500422  0.635745  1.012405  "
      ]
     },
     "execution_count": 4,
     "metadata": {},
     "output_type": "execute_result"
    }
   ],
   "source": [
    "nR_S1 = np.array([170, 120, 50, 25, 45, 40])\n",
    "nR_S2 = np.array([40, 50, 30, 20, 70, 240])\n",
    "\n",
    "fit_ggsdt(nR_S1, nR_S2, add_constant = False)"
   ]
  }
 ],
 "metadata": {
  "kernelspec": {
   "display_name": "Python 3",
   "language": "python",
   "name": "python3"
  },
  "language_info": {
   "codemirror_mode": {
    "name": "ipython",
    "version": 3
   },
   "file_extension": ".py",
   "mimetype": "text/x-python",
   "name": "python",
   "nbconvert_exporter": "python",
   "pygments_lexer": "ipython3",
   "version": "3.8.8"
  }
 },
 "nbformat": 4,
 "nbformat_minor": 5
}
